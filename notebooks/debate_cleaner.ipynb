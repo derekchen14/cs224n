{
 "cells": [
  {
   "cell_type": "code",
   "execution_count": 2,
   "metadata": {
    "collapsed": true
   },
   "outputs": [],
   "source": [
    "import time as tm\n",
    "import numpy as np\n",
    "import pandas as pd\n",
    "import sys"
   ]
  },
  {
   "cell_type": "code",
   "execution_count": 2,
   "metadata": {
    "collapsed": false
   },
   "outputs": [],
   "source": [
    "pd.set_option('display.width', 150)\n",
    "pd.set_option('display.max_colwidth', 120)\n",
    "pd.set_option('display.max_columns', 90)"
   ]
  },
  {
   "cell_type": "code",
   "execution_count": null,
   "metadata": {
    "collapsed": false
   },
   "outputs": [],
   "source": [
    "df = pd.read_csv(\"dirty/primary_debate01.csv\")"
   ]
  },
  {
   "cell_type": "code",
   "execution_count": null,
   "metadata": {
    "collapsed": false
   },
   "outputs": [],
   "source": [
    "del df['SentenceNo']\n",
    "df['Text'].replace(to_replace=\"\\(.*\\)\", value=\"\", inplace=True, regex=True)\n",
    "df['Text'].replace(to_replace=\"\", value=np.nan, inplace=True, regex=True)\n",
    "df = df.dropna()\n",
    "print df.shape"
   ]
  },
  {
   "cell_type": "code",
   "execution_count": null,
   "metadata": {
    "collapsed": false
   },
   "outputs": [],
   "source": [
    "cdf = df[df['Text'].map(len) > 10]\n",
    "cdf = cdf.groupby(['SequenceNo', 'Speaker'])['Text'].apply(lambda x: ' '.join(x.astype(str))).reset_index()\n",
    "cdf.rename(columns={\"Text\": \"answer\"}, inplace=True)\n",
    "cdf['query'] = np.where(cdf['answer'].str.contains(\"Mr. Trump, your\"), cdf['answer'].shift(2), cdf['answer'].shift(1))\n",
    "print cdf.shape"
   ]
  },
  {
   "cell_type": "code",
   "execution_count": null,
   "metadata": {
    "collapsed": false
   },
   "outputs": [],
   "source": [
    "cdf = cdf[cdf['Speaker'] == \"TRUMP\"]\n",
    "cdf['query'].replace(to_replace=\"Mr\\. Trump\\, \", value=\"\", inplace=True, regex=True)\n",
    "print cdf.shape"
   ]
  },
  {
   "cell_type": "code",
   "execution_count": null,
   "metadata": {
    "collapsed": false
   },
   "outputs": [],
   "source": [
    "files = [\"01\", \"02\", \"03\", \"04\", \"05\", \"06\", \"07\" \"08\", \"09\", \"10\", \"11\", \"12\"]\n",
    "# file 7 is actually the presidential debates\n",
    "# files = [\"editorial\", \"matthews\", \"military\"]\n",
    "all_dfs = []\n",
    "\n",
    "for file in files:\n",
    "    filename = \"debates/primary_debate\"+file+\".csv\"\n",
    "    df = pd.read_csv(filename)\n",
    "    df.rename(columns={\"2\":\"speaker\", \"3\":\"answer\"}, inplace=True)\n",
    "    df['query'] = np.where(df['answer'].str.contains(\"Mr. Trump, your\"), df['answer'].shift(2), df['answer'].shift(1))\n",
    "    df = df[df['speaker'] == \"TRUMP\"]\n",
    "    df = df[[\"answer\", \"query\", \"source\"]]\n",
    "    all_dfs.append(df)\n",
    "    print df.shape\n",
    "\n",
    "final_df = pd.concat(all_dfs)\n",
    "print final_df.shape\n",
    "# final_df.to_csv(\"discussions.csv\", index=False, header=True)"
   ]
  },
  {
   "cell_type": "code",
   "execution_count": null,
   "metadata": {
    "collapsed": true
   },
   "outputs": [],
   "source": []
  },
  {
   "cell_type": "code",
   "execution_count": null,
   "metadata": {
    "collapsed": false
   },
   "outputs": [],
   "source": [
    "op = pd.read_csv(\"clean/discussions.csv\")\n",
    "op"
   ]
  },
  {
   "cell_type": "code",
   "execution_count": 22,
   "metadata": {
    "collapsed": false
   },
   "outputs": [
    {
     "name": "stdout",
     "output_type": "stream",
     "text": [
      "(334, 2)\n",
      "(168, 2)\n",
      "(50, 2)\n",
      "(53, 2)\n",
      "(76, 2)\n",
      "(94, 2)\n",
      "(334, 2)\n",
      "(76, 2)\n",
      "(110, 2)\n",
      "(239, 2)\n",
      "(229, 2)\n",
      "(101, 2)\n",
      "(1864, 2)\n"
     ]
    }
   ],
   "source": [
    "files = [\"07\", \"02\", \"03\", \"04\", \"05\", \"06\", \"07\", \"08\", \"09\", \"10\", \"11\", \"12\"]\n",
    "# file 7 is actually the presidential debates\n",
    "# files = [\"editorial\", \"matthews\", \"military\"]\n",
    "all_dfs = []\n",
    "\n",
    "for file in files:\n",
    "    filename = \"debates/primary_debate\"+file+\".csv\"\n",
    "    df = pd.read_csv(filename)\n",
    "\n",
    "    df['Text'].replace(to_replace=\"\\(.*\\)\", value=\"\", inplace=True, regex=True)\n",
    "    df['Text'].replace(to_replace=\"\", value=np.nan, inplace=True, regex=True)\n",
    "    df = df.dropna()\n",
    "    df = df[df['Text'].map(len) > 10]\n",
    "    df.rename(columns={\"Text\": \"answer\"}, inplace=True)\n",
    "    \n",
    "    df['query'] = np.where(df['answer'].str.contains(\"Mr. Trump, your\"), df['answer'].shift(2), df['answer'].shift(1))\n",
    "\n",
    "    if file == \"07\":\n",
    "        df = df[df['Speaker'] == \"Trump\"]\n",
    "    else:\n",
    "        df = df[df['Speaker'] == \"TRUMP\"]\n",
    "    df['query'].replace(to_replace=\"Mr\\. Trump\\, \", value=\"\", inplace=True, regex=True)\n",
    "    del df['Speaker']\n",
    "    if file == \"07\":\n",
    "        del df['Line']\n",
    "        del df['source']\n",
    "    else:\n",
    "        del df['SentenceNo']\n",
    "        del df['SequenceNo']\n",
    "    print df.shape\n",
    "    all_dfs.append(df)\n",
    "\n",
    "final_df = pd.concat(all_dfs)\n",
    "print final_df.shape"
   ]
  },
  {
   "cell_type": "code",
   "execution_count": 23,
   "metadata": {
    "collapsed": false
   },
   "outputs": [
    {
     "data": {
      "text/html": [
       "<div>\n",
       "<table border=\"1\" class=\"dataframe\">\n",
       "  <thead>\n",
       "    <tr style=\"text-align: right;\">\n",
       "      <th></th>\n",
       "      <th>answer</th>\n",
       "      <th>query</th>\n",
       "    </tr>\n",
       "  </thead>\n",
       "  <tbody>\n",
       "    <tr>\n",
       "      <th>10</th>\n",
       "      <td>Thank you, Lester. Our jobs are fleeing the co...</td>\n",
       "      <td>Secretary Clinton, thank you. the same questio...</td>\n",
       "    </tr>\n",
       "    <tr>\n",
       "      <th>11</th>\n",
       "      <td>We cannot let it happen. Under my plan, I'll b...</td>\n",
       "      <td>Thank you, Lester. Our jobs are fleeing the co...</td>\n",
       "    </tr>\n",
       "    <tr>\n",
       "      <th>15</th>\n",
       "      <td>Well, for one thing -- and before we start on ...</td>\n",
       "      <td>Let me follow up with if you can. You've talke...</td>\n",
       "    </tr>\n",
       "    <tr>\n",
       "      <th>17</th>\n",
       "      <td>Secretary Clinton and others, politicians, sho...</td>\n",
       "      <td>Let me interrupt just a moment, but...</td>\n",
       "    </tr>\n",
       "    <tr>\n",
       "      <th>19</th>\n",
       "      <td>Well, the first thing you do is don't let the ...</td>\n",
       "      <td>Back to the question, though. How do you bring...</td>\n",
       "    </tr>\n",
       "  </tbody>\n",
       "</table>\n",
       "</div>"
      ],
      "text/plain": [
       "                                               answer  \\\n",
       "10  Thank you, Lester. Our jobs are fleeing the co...   \n",
       "11  We cannot let it happen. Under my plan, I'll b...   \n",
       "15  Well, for one thing -- and before we start on ...   \n",
       "17  Secretary Clinton and others, politicians, sho...   \n",
       "19  Well, the first thing you do is don't let the ...   \n",
       "\n",
       "                                                query  \n",
       "10  Secretary Clinton, thank you. the same questio...  \n",
       "11  Thank you, Lester. Our jobs are fleeing the co...  \n",
       "15  Let me follow up with if you can. You've talke...  \n",
       "17             Let me interrupt just a moment, but...  \n",
       "19  Back to the question, though. How do you bring...  "
      ]
     },
     "execution_count": 23,
     "metadata": {},
     "output_type": "execute_result"
    }
   ],
   "source": [
    "final_df.head()"
   ]
  },
  {
   "cell_type": "code",
   "execution_count": null,
   "metadata": {
    "collapsed": true
   },
   "outputs": [],
   "source": [
    "def recursiveSplit(line, sentences):\n",
    "    if (len(line) <= 10):\n",
    "        return []\n",
    "    elif (len(sentences) < 2) or (len(line) < 250):\n",
    "        return [line]\n",
    "    else:\n",
    "        allLengths = [len(s) for s in sentences]\n",
    "        leftSide = 0\n",
    "        rightSide = sum(allLengths)\n",
    "        diffs = []\n",
    "        for l in allLengths:\n",
    "            leftSide = leftSide + l\n",
    "            rightSide = rightSide - l\n",
    "            diffs.append(abs(leftSide - rightSide))\n",
    "        splitIndex = diffs.index(min(diffs))\n",
    "\n",
    "        previous = ' '.join([str(s) for s in sentences[:splitIndex+1]])\n",
    "        previousSent = sentences[:splitIndex+1]\n",
    "        upcoming = ' '.join([str(s) for s in sentences[splitIndex+1:]])\n",
    "        upcomingSent = sentences[splitIndex+1:]\n",
    "\n",
    "        splitSentence = []\n",
    "        splitSentence += recursiveSplit(previous, previousSent)\n",
    "        splitSentence += recursiveSplit(upcoming, upcomingSent)   \n",
    "        return splitSentence"
   ]
  },
  {
   "cell_type": "code",
   "execution_count": null,
   "metadata": {
    "collapsed": true
   },
   "outputs": [],
   "source": [
    "allText = []\n",
    "for filename in files:\n",
    "    toRead = \"speeches/\"+filename+\".txt\"\n",
    "    fileText = []\n",
    "    with open (toRead, \"r\") as myfile:\n",
    "        for line in myfile:\n",
    "            text = nlp(unicode(line))\n",
    "            sentences = [s for s in text.sents]\n",
    "            fileText += recursiveSplit(line, sentences)\n",
    "    print filename, \": \", len(fileText)\n",
    "\n",
    "    allText += fileText\n",
    "print \"FINAL LENGTH: \", len(allText)\n",
    "\n",
    "with open('speeches.csv', 'wb+') as f:\n",
    "    myWriter = csv.writer(f)\n",
    "    for q, a in zip(allText, allText[1:]):\n",
    "        myWriter.writerow([a, q, 'speeches'])"
   ]
  },
  {
   "cell_type": "code",
   "execution_count": 24,
   "metadata": {
    "collapsed": true
   },
   "outputs": [],
   "source": [
    "final_df.to_csv(\"scrub.csv\", index=False, header=True)"
   ]
  }
 ],
 "metadata": {
  "kernelspec": {
   "display_name": "Python 2",
   "language": "python",
   "name": "python2"
  },
  "language_info": {
   "codemirror_mode": {
    "name": "ipython",
    "version": 2
   },
   "file_extension": ".py",
   "mimetype": "text/x-python",
   "name": "python",
   "nbconvert_exporter": "python",
   "pygments_lexer": "ipython2",
   "version": "2.7.9"
  }
 },
 "nbformat": 4,
 "nbformat_minor": 0
}
