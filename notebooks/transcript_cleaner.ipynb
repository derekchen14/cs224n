{
 "cells": [
  {
   "cell_type": "code",
   "execution_count": 1,
   "metadata": {
    "collapsed": false
   },
   "outputs": [],
   "source": [
    "import numpy as np\n",
    "import pandas as pd\n",
    "import os\n",
    "import re\n",
    "import spacy\n",
    "import csv\n",
    "import pickle\n",
    "import csv\n",
    "\n",
    "pd.set_option('display.width', 120)\n",
    "pd.set_option('display.max_colwidth', 50)\n",
    "pd.set_option('display.max_columns', 90)"
   ]
  },
  {
   "cell_type": "code",
   "execution_count": 2,
   "metadata": {
    "collapsed": false
   },
   "outputs": [],
   "source": [
    "import sys  \n",
    "\n",
    "default_stdout = sys.stdout\n",
    "default_stderr = sys.stderr\n",
    "reload(sys)  \n",
    "sys.stdout = default_stdout\n",
    "sys.stderr = default_stderr\n",
    "sys.setdefaultencoding('utf8')"
   ]
  },
  {
   "cell_type": "code",
   "execution_count": 3,
   "metadata": {
    "collapsed": true
   },
   "outputs": [],
   "source": [
    "nlp = spacy.load('en')"
   ]
  },
  {
   "cell_type": "code",
   "execution_count": 4,
   "metadata": {
    "collapsed": true
   },
   "outputs": [],
   "source": [
    "def recursiveSplit(line, sentences):\n",
    "    if (len(line) <= 10):\n",
    "        return []\n",
    "    elif (len(sentences) < 2) or (len(line) < 250):\n",
    "        return [line]\n",
    "    else:\n",
    "        allLengths = [len(s) for s in sentences]\n",
    "        leftSide = 0\n",
    "        rightSide = sum(allLengths)\n",
    "        diffs = []\n",
    "        for l in allLengths:\n",
    "            leftSide = leftSide + l\n",
    "            rightSide = rightSide - l\n",
    "            diffs.append(abs(leftSide - rightSide))\n",
    "        splitIndex = diffs.index(min(diffs))\n",
    "\n",
    "        previous = ' '.join([str(s) for s in sentences[:splitIndex+1]])\n",
    "        previousSent = sentences[:splitIndex+1]\n",
    "        upcoming = ' '.join([str(s) for s in sentences[splitIndex+1:]])\n",
    "        upcomingSent = sentences[splitIndex+1:]\n",
    "\n",
    "        splitSentence = []\n",
    "        splitSentence += recursiveSplit(previous, previousSent)\n",
    "        splitSentence += recursiveSplit(upcoming, upcomingSent)   \n",
    "        return splitSentence"
   ]
  },
  {
   "cell_type": "code",
   "execution_count": 49,
   "metadata": {
    "collapsed": false
   },
   "outputs": [
    {
     "name": "stdout",
     "output_type": "stream",
     "text": [
      "0516_carrier :  111\n",
      "0616_jersey :  64\n",
      "0716_convention :  196\n",
      "0816_immigration :  254\n",
      "0916_economy :  132\n",
      "0916_security :  105\n",
      "0916_victory :  50\n",
      "1016_accusation :  163\n",
      "1016_smith :  61\n",
      "0217_dump :  6074\n",
      "FINAL LENGTH:  7210\n"
     ]
    }
   ],
   "source": [
    "files = [\"0516_carrier\", \"0616_jersey\", \"0716_convention\", \"0816_immigration\", \"0916_economy\",\n",
    "          \"0916_security\", \"0916_victory\", \"1016_accusation\", \"1016_smith\", \"0217_dump\"]\n",
    "\n",
    "allText = []\n",
    "for filename in files:\n",
    "    toRead = \"speeches/\"+filename+\".txt\"\n",
    "    fileText = []\n",
    "    with open (toRead, \"r\") as myfile:\n",
    "        for line in myfile:\n",
    "            text = nlp(unicode(line))\n",
    "            sentences = [s for s in text.sents]\n",
    "            fileText += recursiveSplit(line, sentences)\n",
    "    print filename, \": \", len(fileText)\n",
    "\n",
    "    allText += fileText\n",
    "print \"FINAL LENGTH: \", len(allText)\n",
    "\n",
    "with open('speeches.csv', 'wb+') as f:\n",
    "    myWriter = csv.writer(f)\n",
    "    for q, a in zip(allText, allText[1:]):\n",
    "        myWriter.writerow([a, q, 'speeches'])"
   ]
  },
  {
   "cell_type": "code",
   "execution_count": 53,
   "metadata": {
    "collapsed": false
   },
   "outputs": [
    {
     "name": "stdout",
     "output_type": "stream",
     "text": [
      "19405\n"
     ]
    }
   ],
   "source": [
    "with open(\"twitter.csv\",\"r\") as f:\n",
    "    reader = csv.reader(f,delimiter = \",\")\n",
    "    rows = list(reader)\n",
    "    print len(rows)"
   ]
  },
  {
   "cell_type": "code",
   "execution_count": null,
   "metadata": {
    "collapsed": false
   },
   "outputs": [],
   "source": [
    "files = [\"0516_carrier\", \"0616_jersey\", \"0716_convention\", \"0816_immigration\", \"0916_economy\",\n",
    "         \"0916_security\", \"0916_victory\", \"1016_accusation\", \"1016_smith\"]\n",
    "all_dfs = []\n",
    "\n",
    "for file in files:\n",
    "    filename = \"dirty/speeches/\"+file+\".txt\"\n",
    "    data = []\n",
    "    with open (filename, \"r\") as myfile:\n",
    "        for line in myfile:\n",
    "            data.append(line)\n",
    "    df = pd.DataFrame({\"answer\": data})    \n",
    "    df['answer'].replace(to_replace=\"\\n\", value=\"\", inplace=True, regex=True)\n",
    "    df['query'] = np.where(df['answer'].str.contains(\"Mr. Trump, your\"), df['answer'].shift(2), df['answer'].shift(1))\n",
    "    df['source'] = file\n",
    "    df = df.dropna()\n",
    "    all_dfs.append(df)\n",
    "    print file + \" \" + str(df.shape)\n",
    "\n",
    "final_df = pd.concat(all_dfs)\n",
    "final_df.to_csv(\"clean/speeches.csv\", index=False, header=True)"
   ]
  },
  {
   "cell_type": "code",
   "execution_count": null,
   "metadata": {
    "collapsed": true
   },
   "outputs": [],
   "source": [
    "# from spacy.en import English\n",
    "# nlp = English()\n",
    "\n",
    "# full = full.dropna(axis=0)\n",
    "# full = full[full['Content'].str.len() < 600]\n",
    "preX = full['Content']\n",
    "preX = preX.apply(lambda row: row.strip())\n",
    "preX = preX.apply(lambda row: row.replace('-', ' '))\n",
    "parsed = preX.apply(lambda row: nlp(unicode(row, 'utf-8', 'ignore')) )\n",
    "reindexed = parsed.reset_index(drop=True)\n",
    "# X = reindexed\n",
    "postX = []\n",
    "for idx, sentence in enumerate(preX):\n",
    "    found_entities = []\n",
    "    for ent in reindexed[idx].ents:\n",
    "        if ent.label_ == 'ORG':\n",
    "            found_entities.append( (ent.text.encode('utf-8'), 'ORG') )\n",
    "        if ent.label_ == 'PERSON':\n",
    "            found_entities.append( (ent.text.encode('utf-8'), 'PERSON') )\n",
    "        if ent.label_ == 'MONEY':\n",
    "            found_entities.append( (ent.text.encode('utf-8'), 'MONEY') )\n",
    "    for word in found_entities:\n",
    "        sentence = sentence.replace(word[0], word[1])\n",
    "    postX.append(sentence)\n",
    "    if (idx%2500 == 0):\n",
    "        print idx\n",
    "\n",
    "postX = pd.Series(postX)\n",
    "parsed = postX.map(lambda row: nlp(unicode(row, 'utf-8', 'ignore')) )\n",
    "tokenized = parsed.map(lambda row: [token.orth_ for token in row])\n",
    "X = tokenized\n",
    "print len(X)"
   ]
  }
 ],
 "metadata": {
  "kernelspec": {
   "display_name": "Python 2",
   "language": "python",
   "name": "python2"
  },
  "language_info": {
   "codemirror_mode": {
    "name": "ipython",
    "version": 2
   },
   "file_extension": ".py",
   "mimetype": "text/x-python",
   "name": "python",
   "nbconvert_exporter": "python",
   "pygments_lexer": "ipython2",
   "version": "2.7.9"
  }
 },
 "nbformat": 4,
 "nbformat_minor": 0
}
