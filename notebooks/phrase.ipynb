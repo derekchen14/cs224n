{
 "cells": [
  {
   "cell_type": "code",
   "execution_count": 1,
   "metadata": {
    "collapsed": true
   },
   "outputs": [],
   "source": [
    "import numpy as np\n",
    "import pandas as pd\n",
    "import os\n",
    "import re"
   ]
  },
  {
   "cell_type": "code",
   "execution_count": 59,
   "metadata": {
    "collapsed": false
   },
   "outputs": [],
   "source": [
    "data = []\n",
    "with open (\"tp.txt\", \"r\") as myfile:\n",
    "    data = myfile.read().splitlines()\n",
    "#     for line in myfile:\n",
    "#         data.append(line)\n",
    "enc = data[:50]\n",
    "dec = data[50:]"
   ]
  },
  {
   "cell_type": "code",
   "execution_count": 60,
   "metadata": {
    "collapsed": false
   },
   "outputs": [],
   "source": [
    "def pad(word, total):\n",
    "    wl = len(word)\n",
    "    needed = total - wl\n",
    "    padding = \"-\" * needed\n",
    "    return word + padding"
   ]
  },
  {
   "cell_type": "code",
   "execution_count": 61,
   "metadata": {
    "collapsed": false
   },
   "outputs": [],
   "source": [
    "for idx, word in enumerate(enc):\n",
    "    padded = pad(word, 7)\n",
    "    enc[idx] = map(ord, padded)\n",
    "for idx, word in enumerate(dec):\n",
    "    padded = pad(word, 8)\n",
    "    dec[idx] = map(ord, padded)"
   ]
  },
  {
   "cell_type": "code",
   "execution_count": 63,
   "metadata": {
    "collapsed": false
   },
   "outputs": [],
   "source": [
    "# f = open('encoded.txt', 'w')\n",
    "# for word in enc:\n",
    "#     f.write(word)\n",
    "#     f.write(\"\\n\")\n",
    "# for word in dec:\n",
    "#     f.write(word)\n",
    "#     f.write(\"\\n\")        \n",
    "# f.close()"
   ]
  },
  {
   "cell_type": "code",
   "execution_count": 72,
   "metadata": {
    "collapsed": false
   },
   "outputs": [],
   "source": [
    "with file('encoded.txt', 'w') as outfile:\n",
    "    np.savetxt(outfile, enc, fmt='%-5.0f')\n",
    "    np.savetxt(outfile, dec, fmt='%-5.0f')"
   ]
  },
  {
   "cell_type": "code",
   "execution_count": 73,
   "metadata": {
    "collapsed": false
   },
   "outputs": [
    {
     "name": "stdout",
     "output_type": "stream",
     "text": [
      "[[97, 99, 99, 101, 112, 116, 45], [98, 98, 113, 45, 45, 45, 45], [98, 101, 45, 45, 45, 45, 45], [98, 101, 45, 45, 45, 45, 45], [98, 101, 97, 117, 116, 121, 45], [98, 108, 97, 99, 107, 45, 45], [99, 104, 105, 116, 45, 45, 45], [99, 111, 109, 101, 45, 45, 45], [99, 114, 101, 97, 109, 45, 45], [100, 101, 102, 105, 110, 101, 45], [100, 114, 101, 97, 109, 45, 45], [101, 97, 115, 116, 101, 114, 45], [102, 97, 108, 115, 101, 45, 45], [102, 105, 103, 104, 116, 45, 45], [102, 108, 97, 116, 45, 45, 45], [102, 114, 101, 101, 45, 45, 45], [103, 111, 111, 100, 45, 45, 45], [104, 101, 108, 108, 111, 45, 45], [104, 111, 110, 101, 115, 116, 121], [105, 99, 101, 45, 45, 45, 45], [105, 110, 115, 116, 97, 110, 116], [108, 105, 118, 101, 45, 45, 45], [108, 111, 111, 107, 45, 45, 45], [108, 111, 118, 101, 45, 45, 45], [108, 111, 118, 105, 110, 45, 45], [109, 105, 108, 107, 45, 45, 45], [109, 105, 115, 104, 45, 45, 45], [109, 111, 118, 101, 45, 45, 45], [110, 101, 120, 116, 45, 45, 45], [111, 112, 116, 45, 45, 45, 45], [111, 118, 101, 110, 45, 45, 45], [113, 117, 105, 101, 116, 45, 45], [114, 105, 112, 101, 45, 45, 45], [115, 101, 101, 45, 45, 45, 45], [115, 109, 97, 108, 108, 45, 45], [115, 116, 97, 110, 100, 45, 45], [115, 116, 97, 114, 116, 45, 45], [115, 116, 97, 121, 45, 45, 45], [115, 119, 101, 101, 116, 45, 45], [116, 97, 108, 108, 45, 45, 45], [116, 104, 97, 110, 107, 45, 45], [116, 114, 117, 115, 116, 45, 45], [116, 114, 121, 45, 45, 45, 45], [117, 115, 101, 114, 45, 45, 45], [118, 105, 114, 116, 117, 97, 108], [119, 105, 115, 104, 121, 45, 45], [119, 111, 114, 107, 45, 45, 45], [119, 114, 111, 110, 103, 45, 45], [121, 105, 110, 103, 45, 45, 45], [122, 105, 103, 45, 45, 45, 45]]\n"
     ]
    }
   ],
   "source": [
    "with open (\"encoded.txt\", \"r\") as myfile:\n",
    "    raw = myfile.read().splitlines()\n",
    "pro = [word.split() for word in raw]\n",
    "for idx, word in enumerate(pro):\n",
    "    pro[idx] = [int(char) for char in word] \n",
    "    \n",
    "renc = pro[:50]\n",
    "rdec = pro[50:]\n",
    "\n",
    "print renc"
   ]
  },
  {
   "cell_type": "code",
   "execution_count": 83,
   "metadata": {
    "collapsed": false
   },
   "outputs": [
    {
     "name": "stdout",
     "output_type": "stream",
     "text": [
      "[[121, 111, 117, 114, 115, 101, 108, 102], [99, 104, 105, 99, 107, 101, 110, 45], [104, 97, 112, 112, 121, 45, 45, 45], [121, 111, 117, 114, 115, 101, 108, 102], [115, 108, 101, 101, 112, 45, 45, 45], [106, 97, 99, 107, 45, 45, 45, 45], [99, 104, 97, 116, 45, 45, 45, 45], [98, 97, 99, 107, 45, 45, 45, 45], [115, 117, 103, 97, 114, 45, 45, 45], [121, 111, 117, 114, 115, 101, 108, 102], [98, 105, 103, 45, 45, 45, 45, 45], [101, 103, 103, 45, 45, 45, 45, 45], [97, 108, 97, 114, 109, 45, 45, 45], [111, 110, 45, 45, 45, 45, 45, 45], [116, 105, 114, 101, 45, 45, 45, 45], [121, 111, 117, 114, 115, 101, 108, 102], [109, 111, 114, 110, 105, 110, 103, 45], [119, 111, 114, 108, 100, 45, 45, 45], [114, 117, 108, 101, 115, 45, 45, 45], [99, 114, 101, 97, 109, 45, 45, 45], [114, 101, 112, 108, 97, 121, 45, 45], [109, 117, 115, 105, 99, 45, 45, 45], [117, 112, 45, 45, 45, 45, 45, 45], [104, 97, 116, 101, 45, 45, 45, 45], [105, 116, 45, 45, 45, 45, 45, 45], [112, 97, 105, 108, 45, 45, 45, 45], [109, 97, 115, 104, 45, 45, 45, 45], [111, 110, 45, 45, 45, 45, 45, 45], [117, 112, 45, 45, 45, 45, 45, 45], [111, 117, 116, 45, 45, 45, 45, 45], [109, 105, 116, 116, 45, 45, 45, 45], [116, 105, 109, 101, 45, 45, 45, 45], [102, 114, 117, 105, 116, 45, 45, 45], [115, 97, 119, 45, 45, 45, 45, 45], [98, 97, 108, 108, 45, 45, 45, 45], [117, 112, 45, 45, 45, 45, 45, 45], [108, 105, 118, 105, 110, 103, 45, 45], [112, 111, 115, 105, 116, 105, 118, 101], [99, 111, 114, 110, 45, 45, 45, 45], [103, 105, 97, 110, 116, 45, 45, 45], [121, 111, 117, 45, 45, 45, 45, 45], [109, 101, 45, 45, 45, 45, 45, 45], [97, 103, 97, 105, 110, 45, 45, 45], [102, 114, 105, 101, 110, 100, 108, 121], [114, 101, 97, 108, 105, 116, 121, 45], [119, 97, 115, 104, 121, 45, 45, 45], [104, 97, 114, 100, 45, 45, 45, 45], [119, 97, 121, 45, 45, 45, 45, 45], [121, 97, 110, 103, 45, 45, 45, 45], [122, 97, 103, 45, 45, 45, 45, 45]]\n"
     ]
    }
   ],
   "source": [
    "data = []\n",
    "with open (\"encoded.txt\", \"r\") as f:\n",
    "    for line in f:\n",
    "        data.append([int(char) for char in line.split()])\n",
    "    \n",
    "enc = data[:50]\n",
    "dec = data[50:]\n",
    "\n",
    "def inspectWord(word):\n",
    "    print \"\".join(map(chr, word))  \n",
    "inspectWord(dec[29])"
   ]
  },
  {
   "cell_type": "code",
   "execution_count": 84,
   "metadata": {
    "collapsed": true
   },
   "outputs": [],
   "source": [
    "  "
   ]
  },
  {
   "cell_type": "code",
   "execution_count": 86,
   "metadata": {
    "collapsed": false
   },
   "outputs": [
    {
     "name": "stdout",
     "output_type": "stream",
     "text": [
      "out-----\n"
     ]
    }
   ],
   "source": [
    "inspectWord(dec[29])"
   ]
  }
 ],
 "metadata": {
  "kernelspec": {
   "display_name": "Python 2",
   "language": "python",
   "name": "python2"
  },
  "language_info": {
   "codemirror_mode": {
    "name": "ipython",
    "version": 2
   },
   "file_extension": ".py",
   "mimetype": "text/x-python",
   "name": "python",
   "nbconvert_exporter": "python",
   "pygments_lexer": "ipython2",
   "version": "2.7.9"
  }
 },
 "nbformat": 4,
 "nbformat_minor": 0
}
