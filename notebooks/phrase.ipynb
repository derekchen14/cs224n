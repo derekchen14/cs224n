{
 "cells": [
  {
   "cell_type": "code",
   "execution_count": 1,
   "metadata": {
    "collapsed": true
   },
   "outputs": [],
   "source": [
    "import numpy as np\n",
    "import pandas as pd\n",
    "import pickle\n",
    "import os\n",
    "import re"
   ]
  },
  {
   "cell_type": "code",
   "execution_count": 16,
   "metadata": {
    "collapsed": true
   },
   "outputs": [],
   "source": [
    "pd.set_option('display.width', 120)\n",
    "pd.set_option('display.max_colwidth', 50)\n",
    "pd.set_option('display.max_columns', 90)"
   ]
  },
  {
   "cell_type": "code",
   "execution_count": 59,
   "metadata": {
    "collapsed": false
   },
   "outputs": [],
   "source": [
    "data = []\n",
    "with open (\"tp.txt\", \"r\") as myfile:\n",
    "    data = myfile.read().splitlines()\n",
    "#     for line in myfile:\n",
    "#         data.append(line)\n",
    "enc = data[:50]\n",
    "dec = data[50:]"
   ]
  },
  {
   "cell_type": "code",
   "execution_count": 60,
   "metadata": {
    "collapsed": false
   },
   "outputs": [],
   "source": [
    "def pad(word, total):\n",
    "    wl = len(word)\n",
    "    needed = total - wl\n",
    "    padding = \"-\" * needed\n",
    "    return word + padding"
   ]
  },
  {
   "cell_type": "code",
   "execution_count": 61,
   "metadata": {
    "collapsed": false
   },
   "outputs": [],
   "source": [
    "for idx, word in enumerate(enc):\n",
    "    padded = pad(word, 7)\n",
    "    enc[idx] = map(ord, padded)\n",
    "for idx, word in enumerate(dec):\n",
    "    padded = pad(word, 8)\n",
    "    dec[idx] = map(ord, padded)"
   ]
  },
  {
   "cell_type": "code",
   "execution_count": 63,
   "metadata": {
    "collapsed": false
   },
   "outputs": [],
   "source": [
    "# f = open('encoded.txt', 'w')\n",
    "# for word in enc:\n",
    "#     f.write(word)\n",
    "#     f.write(\"\\n\")\n",
    "# for word in dec:\n",
    "#     f.write(word)\n",
    "#     f.write(\"\\n\")        \n",
    "# f.close()"
   ]
  },
  {
   "cell_type": "code",
   "execution_count": 72,
   "metadata": {
    "collapsed": false
   },
   "outputs": [],
   "source": [
    "with file('encoded.txt', 'w') as outfile:\n",
    "    np.savetxt(outfile, enc, fmt='%-5.0f')\n",
    "    np.savetxt(outfile, dec, fmt='%-5.0f')"
   ]
  },
  {
   "cell_type": "code",
   "execution_count": 4,
   "metadata": {
    "collapsed": false
   },
   "outputs": [
    {
     "name": "stdout",
     "output_type": "stream",
     "text": [
      "[[97, 99, 99, 101, 112, 116, 0], [98, 98, 113, 0, 0, 0, 0], [98, 101, 0, 0, 0, 0, 0], [98, 101, 0, 0, 0, 0, 0], [98, 101, 97, 117, 116, 121, 0], [98, 108, 97, 99, 107, 0, 0], [99, 104, 105, 116, 0, 0, 0], [99, 111, 109, 101, 0, 0, 0], [99, 114, 101, 97, 109, 0, 0], [100, 101, 102, 105, 110, 101, 0], [100, 114, 101, 97, 109, 0, 0], [101, 97, 115, 116, 101, 114, 0], [102, 97, 108, 115, 101, 0, 0], [102, 105, 103, 104, 116, 0, 0], [102, 108, 97, 116, 0, 0, 0], [102, 114, 101, 101, 0, 0, 0], [103, 111, 111, 100, 0, 0, 0], [104, 101, 108, 108, 111, 0, 0], [104, 111, 110, 101, 115, 116, 121], [105, 99, 101, 0, 0, 0, 0], [105, 110, 115, 116, 97, 110, 116], [108, 105, 118, 101, 0, 0, 0], [108, 111, 111, 107, 0, 0, 0], [108, 111, 118, 101, 0, 0, 0], [108, 111, 118, 105, 110, 0, 0], [109, 105, 108, 107, 0, 0, 0], [109, 105, 115, 104, 0, 0, 0], [109, 111, 118, 101, 0, 0, 0], [110, 101, 120, 116, 0, 0, 0], [111, 112, 116, 0, 0, 0, 0], [111, 118, 101, 110, 0, 0, 0], [113, 117, 105, 101, 116, 0, 0], [114, 105, 112, 101, 0, 0, 0], [115, 101, 101, 0, 0, 0, 0], [115, 109, 97, 108, 108, 0, 0], [115, 116, 97, 110, 100, 0, 0], [115, 116, 97, 114, 116, 0, 0], [115, 116, 97, 121, 0, 0, 0], [115, 119, 101, 101, 116, 0, 0], [116, 97, 108, 108, 0, 0, 0], [116, 104, 97, 110, 107, 0, 0], [116, 114, 117, 115, 116, 0, 0], [116, 114, 121, 0, 0, 0, 0], [117, 115, 101, 114, 0, 0, 0], [118, 105, 114, 116, 117, 97, 108], [119, 105, 115, 104, 121, 0, 0], [119, 111, 114, 107, 0, 0, 0], [119, 114, 111, 110, 103, 0, 0], [121, 105, 110, 103, 0, 0, 0], [122, 105, 103, 0, 0, 0, 0], [121, 111, 117, 114, 115, 101, 108, 102], [99, 104, 105, 99, 107, 101, 110, 0], [104, 97, 112, 112, 121, 0, 0, 0], [121, 111, 117, 114, 115, 101, 108, 102], [115, 108, 101, 101, 112, 0, 0, 0], [106, 97, 99, 107, 0, 0, 0, 0], [99, 104, 97, 116, 0, 0, 0, 0], [98, 97, 99, 107, 0, 0, 0, 0], [115, 117, 103, 97, 114, 0, 0, 0], [121, 111, 117, 114, 115, 101, 108, 102], [98, 105, 103, 0, 0, 0, 0, 0], [101, 103, 103, 0, 0, 0, 0, 0], [97, 108, 97, 114, 109, 0, 0, 0], [111, 110, 0, 0, 0, 0, 0, 0], [116, 105, 114, 101, 0, 0, 0, 0], [121, 111, 117, 114, 115, 101, 108, 102], [109, 111, 114, 110, 105, 110, 103, 0], [119, 111, 114, 108, 100, 0, 0, 0], [114, 117, 108, 101, 115, 0, 0, 0], [99, 114, 101, 97, 109, 0, 0, 0], [114, 101, 112, 108, 97, 121, 0, 0], [109, 117, 115, 105, 99, 0, 0, 0], [117, 112, 0, 0, 0, 0, 0, 0], [104, 97, 116, 101, 0, 0, 0, 0], [105, 116, 0, 0, 0, 0, 0, 0], [112, 97, 105, 108, 0, 0, 0, 0], [109, 97, 115, 104, 0, 0, 0, 0], [111, 110, 0, 0, 0, 0, 0, 0], [117, 112, 0, 0, 0, 0, 0, 0], [111, 117, 116, 0, 0, 0, 0, 0], [109, 105, 116, 116, 0, 0, 0, 0], [116, 105, 109, 101, 0, 0, 0, 0], [102, 114, 117, 105, 116, 0, 0, 0], [115, 97, 119, 0, 0, 0, 0, 0], [98, 97, 108, 108, 0, 0, 0, 0], [117, 112, 0, 0, 0, 0, 0, 0], [108, 105, 118, 105, 110, 103, 0, 0], [112, 111, 115, 105, 116, 105, 118, 101], [99, 111, 114, 110, 0, 0, 0, 0], [103, 105, 97, 110, 116, 0, 0, 0], [121, 111, 117, 0, 0, 0, 0, 0], [109, 101, 0, 0, 0, 0, 0, 0], [97, 103, 97, 105, 110, 0, 0, 0], [102, 114, 105, 101, 110, 100, 108, 121], [114, 101, 97, 108, 105, 116, 121, 0], [119, 97, 115, 104, 121, 0, 0, 0], [104, 97, 114, 100, 0, 0, 0, 0], [119, 97, 121, 0, 0, 0, 0, 0], [121, 97, 110, 103, 0, 0, 0, 0], [122, 97, 103, 0, 0, 0, 0, 0]]\n"
     ]
    }
   ],
   "source": [
    "with open (\"encoded.txt\", \"r\") as myfile:\n",
    "    raw = myfile.read().splitlines()\n",
    "pro = [word.split() for word in raw]\n",
    "for idx, word in enumerate(pro):\n",
    "    pro[idx] = [int(char) for char in word] \n",
    "# renc = pro[:50]\n",
    "# rdec = pro[50:]\n",
    "\n",
    "# print renc"
   ]
  },
  {
   "cell_type": "code",
   "execution_count": 83,
   "metadata": {
    "collapsed": false
   },
   "outputs": [
    {
     "name": "stdout",
     "output_type": "stream",
     "text": [
      "[[121, 111, 117, 114, 115, 101, 108, 102], [99, 104, 105, 99, 107, 101, 110, 45], [104, 97, 112, 112, 121, 45, 45, 45], [121, 111, 117, 114, 115, 101, 108, 102], [115, 108, 101, 101, 112, 45, 45, 45], [106, 97, 99, 107, 45, 45, 45, 45], [99, 104, 97, 116, 45, 45, 45, 45], [98, 97, 99, 107, 45, 45, 45, 45], [115, 117, 103, 97, 114, 45, 45, 45], [121, 111, 117, 114, 115, 101, 108, 102], [98, 105, 103, 45, 45, 45, 45, 45], [101, 103, 103, 45, 45, 45, 45, 45], [97, 108, 97, 114, 109, 45, 45, 45], [111, 110, 45, 45, 45, 45, 45, 45], [116, 105, 114, 101, 45, 45, 45, 45], [121, 111, 117, 114, 115, 101, 108, 102], [109, 111, 114, 110, 105, 110, 103, 45], [119, 111, 114, 108, 100, 45, 45, 45], [114, 117, 108, 101, 115, 45, 45, 45], [99, 114, 101, 97, 109, 45, 45, 45], [114, 101, 112, 108, 97, 121, 45, 45], [109, 117, 115, 105, 99, 45, 45, 45], [117, 112, 45, 45, 45, 45, 45, 45], [104, 97, 116, 101, 45, 45, 45, 45], [105, 116, 45, 45, 45, 45, 45, 45], [112, 97, 105, 108, 45, 45, 45, 45], [109, 97, 115, 104, 45, 45, 45, 45], [111, 110, 45, 45, 45, 45, 45, 45], [117, 112, 45, 45, 45, 45, 45, 45], [111, 117, 116, 45, 45, 45, 45, 45], [109, 105, 116, 116, 45, 45, 45, 45], [116, 105, 109, 101, 45, 45, 45, 45], [102, 114, 117, 105, 116, 45, 45, 45], [115, 97, 119, 45, 45, 45, 45, 45], [98, 97, 108, 108, 45, 45, 45, 45], [117, 112, 45, 45, 45, 45, 45, 45], [108, 105, 118, 105, 110, 103, 45, 45], [112, 111, 115, 105, 116, 105, 118, 101], [99, 111, 114, 110, 45, 45, 45, 45], [103, 105, 97, 110, 116, 45, 45, 45], [121, 111, 117, 45, 45, 45, 45, 45], [109, 101, 45, 45, 45, 45, 45, 45], [97, 103, 97, 105, 110, 45, 45, 45], [102, 114, 105, 101, 110, 100, 108, 121], [114, 101, 97, 108, 105, 116, 121, 45], [119, 97, 115, 104, 121, 45, 45, 45], [104, 97, 114, 100, 45, 45, 45, 45], [119, 97, 121, 45, 45, 45, 45, 45], [121, 97, 110, 103, 45, 45, 45, 45], [122, 97, 103, 45, 45, 45, 45, 45]]\n"
     ]
    }
   ],
   "source": [
    "data = []\n",
    "with open (\"encoded.txt\", \"r\") as f:\n",
    "    for line in f:\n",
    "        data.append([int(char) for char in line.split()])\n",
    "    \n",
    "enc = data[:50]\n",
    "dec = data[50:]\n",
    "\n",
    "def inspectWord(word):\n",
    "    print \"\".join(map(chr, word))  \n",
    "inspectWord(dec[29])"
   ]
  },
  {
   "cell_type": "code",
   "execution_count": 6,
   "metadata": {
    "collapsed": false
   },
   "outputs": [],
   "source": [
    "allnums = [item for word in pro for item in word]"
   ]
  },
  {
   "cell_type": "code",
   "execution_count": 11,
   "metadata": {
    "collapsed": false
   },
   "outputs": [
    {
     "name": "stdout",
     "output_type": "stream",
     "text": [
      "(97, 122)\n"
     ]
    }
   ],
   "source": [
    "uni = set(allnums)\n",
    "blah = list(uni)\n",
    "del blah[0]\n",
    "min = min(blah)\n",
    "max = max(blah)\n",
    "range = (min,max)\n",
    "print range"
   ]
  },
  {
   "cell_type": "code",
   "execution_count": 34,
   "metadata": {
    "collapsed": false
   },
   "outputs": [
    {
     "ename": "ValueError",
     "evalue": "setting an array element with a sequence.",
     "output_type": "error",
     "traceback": [
      "\u001b[0;31m---------------------------------------------------------------------------\u001b[0m",
      "\u001b[0;31mValueError\u001b[0m                                Traceback (most recent call last)",
      "\u001b[0;32m<ipython-input-34-e1bb9d29c2f2>\u001b[0m in \u001b[0;36m<module>\u001b[0;34m()\u001b[0m\n\u001b[1;32m      6\u001b[0m             \u001b[0mposition\u001b[0m \u001b[0;34m=\u001b[0m \u001b[0mchar\u001b[0m \u001b[0;34m-\u001b[0m \u001b[0;36m97\u001b[0m\u001b[0;34m\u001b[0m\u001b[0m\n\u001b[1;32m      7\u001b[0m             \u001b[0mnumpyWord\u001b[0m\u001b[0;34m[\u001b[0m\u001b[0midx\u001b[0m\u001b[0;34m]\u001b[0m\u001b[0;34m[\u001b[0m\u001b[0mposition\u001b[0m\u001b[0;34m]\u001b[0m \u001b[0;34m=\u001b[0m \u001b[0;36m1\u001b[0m\u001b[0;34m\u001b[0m\u001b[0m\n\u001b[0;32m----> 8\u001b[0;31m     \u001b[0mdata\u001b[0m\u001b[0;34m[\u001b[0m\u001b[0mspot\u001b[0m\u001b[0;34m]\u001b[0m \u001b[0;34m=\u001b[0m \u001b[0mnumpyWord\u001b[0m\u001b[0;34m\u001b[0m\u001b[0m\n\u001b[0m\u001b[1;32m      9\u001b[0m \u001b[0;34m\u001b[0m\u001b[0m\n\u001b[1;32m     10\u001b[0m \u001b[0;32mprint\u001b[0m \u001b[0mdata\u001b[0m\u001b[0;34m[\u001b[0m\u001b[0;36m2\u001b[0m\u001b[0;34m]\u001b[0m\u001b[0;34m\u001b[0m\u001b[0m\n",
      "\u001b[0;31mValueError\u001b[0m: setting an array element with a sequence."
     ]
    }
   ],
   "source": [
    "data\n",
    "for spot, word in enumerate(pro):\n",
    "    numpyWord = np.zeros( (len(word), 26) ) \n",
    "    for idx, char in enumerate(word):\n",
    "        if char > 1:\n",
    "            position = char - 97\n",
    "            numpyWord[idx][position] = 1\n",
    "    data[spot] = numpyWord\n",
    "\n",
    "print data[2]"
   ]
  },
  {
   "cell_type": "code",
   "execution_count": 30,
   "metadata": {
    "collapsed": false
   },
   "outputs": [],
   "source": [
    "with open('toy_embeddings.pkl', 'wb') as filename:\n",
    "    pickle.dump(data, filename)"
   ]
  },
  {
   "cell_type": "code",
   "execution_count": 33,
   "metadata": {
    "collapsed": false
   },
   "outputs": [
    {
     "data": {
      "text/plain": [
       "array([[ 0.,  1.,  0.,  0.,  0.,  0.,  0.,  0.,  0.,  0.,  0.,  0.,  0.,\n",
       "         0.,  0.,  0.,  0.,  0.,  0.,  0.,  0.,  0.,  0.,  0.,  0.,  0.],\n",
       "       [ 0.,  0.,  0.,  0.,  1.,  0.,  0.,  0.,  0.,  0.,  0.,  0.,  0.,\n",
       "         0.,  0.,  0.,  0.,  0.,  0.,  0.,  0.,  0.,  0.,  0.,  0.,  0.],\n",
       "       [ 1.,  0.,  0.,  0.,  0.,  0.,  0.,  0.,  0.,  0.,  0.,  0.,  0.,\n",
       "         0.,  0.,  0.,  0.,  0.,  0.,  0.,  0.,  0.,  0.,  0.,  0.,  0.],\n",
       "       [ 0.,  0.,  0.,  0.,  0.,  0.,  0.,  0.,  0.,  0.,  0.,  0.,  0.,\n",
       "         0.,  0.,  0.,  0.,  0.,  0.,  0.,  1.,  0.,  0.,  0.,  0.,  0.],\n",
       "       [ 0.,  0.,  0.,  0.,  0.,  0.,  0.,  0.,  0.,  0.,  0.,  0.,  0.,\n",
       "         0.,  0.,  0.,  0.,  0.,  0.,  1.,  0.,  0.,  0.,  0.,  0.,  0.],\n",
       "       [ 0.,  0.,  0.,  0.,  0.,  0.,  0.,  0.,  0.,  0.,  0.,  0.,  0.,\n",
       "         0.,  0.,  0.,  0.,  0.,  0.,  0.,  0.,  0.,  0.,  0.,  1.,  0.],\n",
       "       [ 0.,  0.,  0.,  0.,  0.,  0.,  0.,  0.,  0.,  0.,  0.,  0.,  0.,\n",
       "         0.,  0.,  0.,  0.,  0.,  0.,  0.,  0.,  0.,  0.,  0.,  0.,  0.]])"
      ]
     },
     "execution_count": 33,
     "metadata": {},
     "output_type": "execute_result"
    }
   ],
   "source": [
    "data[4]"
   ]
  },
  {
   "cell_type": "code",
   "execution_count": null,
   "metadata": {
    "collapsed": true
   },
   "outputs": [],
   "source": []
  }
 ],
 "metadata": {
  "kernelspec": {
   "display_name": "Python 2",
   "language": "python",
   "name": "python2"
  },
  "language_info": {
   "codemirror_mode": {
    "name": "ipython",
    "version": 2
   },
   "file_extension": ".py",
   "mimetype": "text/x-python",
   "name": "python",
   "nbconvert_exporter": "python",
   "pygments_lexer": "ipython2",
   "version": "2.7.9"
  }
 },
 "nbformat": 4,
 "nbformat_minor": 0
}
