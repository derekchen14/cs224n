{
 "cells": [
  {
   "cell_type": "code",
   "execution_count": 1,
   "metadata": {
    "collapsed": true
   },
   "outputs": [],
   "source": [
    "import numpy as np\n",
    "import pandas as pd\n",
    "import pickle\n",
    "import os\n",
    "import re"
   ]
  },
  {
   "cell_type": "code",
   "execution_count": 2,
   "metadata": {
    "collapsed": true
   },
   "outputs": [],
   "source": [
    "pd.set_option('display.width', 120)\n",
    "pd.set_option('display.max_colwidth', 50)\n",
    "pd.set_option('display.max_columns', 90)"
   ]
  },
  {
   "cell_type": "code",
   "execution_count": 3,
   "metadata": {
    "collapsed": false
   },
   "outputs": [],
   "source": [
    "data = []\n",
    "with open (\"phrases.txt\", \"r\") as myfile:\n",
    "    data = myfile.read().splitlines()\n",
    "#     for line in myfile:\n",
    "#         data.append(line)\n",
    "enc = data[:50]\n",
    "dec = data[50:]"
   ]
  },
  {
   "cell_type": "code",
   "execution_count": 5,
   "metadata": {
    "collapsed": false
   },
   "outputs": [],
   "source": [
    "def pad(word, total):\n",
    "    wl = len(word)\n",
    "    needed = total - wl\n",
    "    padding = \"-\" * needed\n",
    "    return word + padding"
   ]
  },
  {
   "cell_type": "code",
   "execution_count": 6,
   "metadata": {
    "collapsed": false
   },
   "outputs": [],
   "source": [
    "for idx, word in enumerate(enc):\n",
    "    padded = pad(word, 7)\n",
    "    enc[idx] = map(ord, padded)\n",
    "for idx, word in enumerate(dec):\n",
    "    padded = pad(word, 8)\n",
    "    dec[idx] = map(ord, padded)"
   ]
  },
  {
   "cell_type": "code",
   "execution_count": null,
   "metadata": {
    "collapsed": false
   },
   "outputs": [],
   "source": [
    "f = open('encoded.txt', 'w')\n",
    "for word in enc:\n",
    "    f.write(word)\n",
    "    f.write(\"\\n\")\n",
    "for word in dec:\n",
    "    f.write(word)\n",
    "    f.write(\"\\n\")        \n",
    "f.close()"
   ]
  },
  {
   "cell_type": "code",
   "execution_count": null,
   "metadata": {
    "collapsed": false
   },
   "outputs": [],
   "source": [
    "with file('encoded.txt', 'w') as outfile:\n",
    "    np.savetxt(outfile, enc, fmt='%-5.0f')\n",
    "    np.savetxt(outfile, dec, fmt='%-5.0f')"
   ]
  },
  {
   "cell_type": "code",
   "execution_count": null,
   "metadata": {
    "collapsed": false
   },
   "outputs": [],
   "source": [
    "with open (\"encoded.txt\", \"r\") as myfile:\n",
    "    raw = myfile.read().splitlines()\n",
    "pro = [word.split() for word in raw]\n",
    "for idx, word in enumerate(pro):\n",
    "    pro[idx] = [int(char) for char in word] \n",
    "renc = pro[:50]\n",
    "rdec = pro[50:]\n",
    "\n",
    "print renc"
   ]
  },
  {
   "cell_type": "code",
   "execution_count": null,
   "metadata": {
    "collapsed": false
   },
   "outputs": [],
   "source": [
    "data = []\n",
    "with open (\"encoded.txt\", \"r\") as f:\n",
    "    for line in f:\n",
    "        data.append([int(char) for char in line.split()])\n",
    "    \n",
    "enc = data[:50]\n",
    "dec = data[50:]\n",
    "\n",
    "def inspectWord(word):\n",
    "    print \"\".join(map(chr, word))  \n",
    "inspectWord(dec[29])"
   ]
  },
  {
   "cell_type": "code",
   "execution_count": null,
   "metadata": {
    "collapsed": false
   },
   "outputs": [],
   "source": [
    "allnums = [item for word in pro for item in word]"
   ]
  },
  {
   "cell_type": "code",
   "execution_count": null,
   "metadata": {
    "collapsed": false
   },
   "outputs": [],
   "source": [
    "uni = set(allnums)\n",
    "blah = list(uni)\n",
    "del blah[0]\n",
    "min = min(blah)\n",
    "max = max(blah)\n",
    "range = (min,max)\n",
    "print range"
   ]
  },
  {
   "cell_type": "code",
   "execution_count": null,
   "metadata": {
    "collapsed": false
   },
   "outputs": [],
   "source": [
    "data\n",
    "for spot, word in enumerate(pro):\n",
    "    numpyWord = np.zeros( (len(word), 26) ) \n",
    "    for idx, char in enumerate(word):\n",
    "        if char > 1:\n",
    "            position = char - 97\n",
    "            numpyWord[idx][position] = 1\n",
    "    data[spot] = numpyWord\n",
    "\n",
    "print data[2]"
   ]
  },
  {
   "cell_type": "code",
   "execution_count": null,
   "metadata": {
    "collapsed": false
   },
   "outputs": [],
   "source": [
    "with open('toy_embeddings.pkl', 'wb') as filename:\n",
    "    pickle.dump(data, filename)"
   ]
  },
  {
   "cell_type": "code",
   "execution_count": null,
   "metadata": {
    "collapsed": false
   },
   "outputs": [],
   "source": [
    "data[4]"
   ]
  },
  {
   "cell_type": "code",
   "execution_count": 45,
   "metadata": {
    "collapsed": false
   },
   "outputs": [
    {
     "name": "stdout",
     "output_type": "stream",
     "text": [
      "27\n"
     ]
    }
   ],
   "source": [
    "all_data = pickle.load(open(\"toy_embeddings.pkl\", \"rb\"))\n",
    "all_data = all_data\n",
    "\n",
    "for i, word in enumerate(all_data):\n",
    "    word = word.tolist()\n",
    "    for j, letter in enumerate(word):\n",
    "        if sum(letter) > 0:\n",
    "            letter.insert(0,0.0)\n",
    "        else:\n",
    "            letter.insert(0,1.0)\n",
    "        word[j] = letter\n",
    "    all_data[i] = word\n",
    "\n",
    "print len(all_data[4][1])"
   ]
  },
  {
   "cell_type": "code",
   "execution_count": 46,
   "metadata": {
    "collapsed": false
   },
   "outputs": [],
   "source": [
    "with open('toy_embeddings_new.pkl', 'wb') as filename:\n",
    "    pickle.dump(all_data, filename)"
   ]
  }
 ],
 "metadata": {
  "kernelspec": {
   "display_name": "Python 2",
   "language": "python",
   "name": "python2"
  },
  "language_info": {
   "codemirror_mode": {
    "name": "ipython",
    "version": 2
   },
   "file_extension": ".py",
   "mimetype": "text/x-python",
   "name": "python",
   "nbconvert_exporter": "python",
   "pygments_lexer": "ipython2",
   "version": "2.7.9"
  }
 },
 "nbformat": 4,
 "nbformat_minor": 0
}
